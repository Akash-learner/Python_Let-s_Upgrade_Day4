{
 "cells": [
  {
   "cell_type": "markdown",
   "metadata": {},
   "source": [
    "# Assignment Day 4"
   ]
  },
  {
   "cell_type": "raw",
   "metadata": {},
   "source": [
    "(Day3)1.Write a program to Print X Prime Numbers using While Loop starting from 0, and take the INput of X from\n",
    "the user{This ques is from previos day's assignment, was'nt able to figure out then ,now I have done}"
   ]
  },
  {
   "cell_type": "code",
   "execution_count": 34,
   "metadata": {},
   "outputs": [
    {
     "name": "stdout",
     "output_type": "stream",
     "text": [
      "2\n",
      "\n",
      "\n",
      "2\n",
      "3\n"
     ]
    }
   ],
   "source": [
    "lim=int(input())\n",
    "print(\"\\n\")\n",
    "num=1\n",
    "count=0\n",
    "while(count!=lim):\n",
    "    num+=1\n",
    "    for i in range(2,num):\n",
    "        if(num%i)==0:\n",
    "            break\n",
    "    else:\n",
    "        print(num)\n",
    "        count+=1"
   ]
  },
  {
   "cell_type": "raw",
   "metadata": {},
   "source": [
    "1.Write down a program in Python for Opening a File and Writing \" I Love LetsUpgrade\" And close\n",
    "it, and read it back again, and then append some data to it and close it."
   ]
  },
  {
   "cell_type": "code",
   "execution_count": 38,
   "metadata": {},
   "outputs": [],
   "source": [
    "file1=open(\"Learn_Python.txt\",'w')\n",
    "file1.write(\"I Love LetsUpgrade\")\n",
    "file1.close()"
   ]
  },
  {
   "cell_type": "code",
   "execution_count": 40,
   "metadata": {},
   "outputs": [
    {
     "name": "stdout",
     "output_type": "stream",
     "text": [
      "I Love LetsUpgrade\n"
     ]
    }
   ],
   "source": [
    "file1=open(\"Learn_Python.txt\",\"r\")\n",
    "print(file1.read())"
   ]
  },
  {
   "cell_type": "code",
   "execution_count": 43,
   "metadata": {},
   "outputs": [],
   "source": [
    "file1=open(\"Learn_Python.txt\",\"a\")\n",
    "file1.write(\"\\n Hey SaiKiran\")\n",
    "file1.close()"
   ]
  },
  {
   "cell_type": "code",
   "execution_count": 44,
   "metadata": {},
   "outputs": [
    {
     "name": "stdout",
     "output_type": "stream",
     "text": [
      "I Love LetsUpgradeHey SaiKiran\n",
      " Hey SaiKiran\n"
     ]
    }
   ],
   "source": [
    "file1=open(\"Learn_Python.txt\",\"r\")\n",
    "print(file1.read())"
   ]
  },
  {
   "cell_type": "raw",
   "metadata": {},
   "source": [
    "2.Write a function which can return a Factorial of any numbers as INT, given in the argument."
   ]
  },
  {
   "cell_type": "code",
   "execution_count": null,
   "metadata": {},
   "outputs": [],
   "source": [
    "def factorial(n):\n",
    "    if n == 0:\n",
    "        return 1\n",
    "    else:\n",
    "        return n * factorial(n-1)\n",
    "n=int(input(\"Input a number to compute the factorial : \"))\n",
    "print(factorial(n))"
   ]
  }
 ],
 "metadata": {
  "kernelspec": {
   "display_name": "Python 3",
   "language": "python",
   "name": "python3"
  },
  "language_info": {
   "codemirror_mode": {
    "name": "ipython",
    "version": 3
   },
   "file_extension": ".py",
   "mimetype": "text/x-python",
   "name": "python",
   "nbconvert_exporter": "python",
   "pygments_lexer": "ipython3",
   "version": "3.8.5"
  }
 },
 "nbformat": 4,
 "nbformat_minor": 4
}
